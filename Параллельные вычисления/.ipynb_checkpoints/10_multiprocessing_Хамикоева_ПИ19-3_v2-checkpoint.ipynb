{
 "cells": [
  {
   "cell_type": "markdown",
   "metadata": {
    "id": "NCXCk3ELRntw"
   },
   "source": [
    "# Параллельные вычисления"
   ]
  },
  {
   "cell_type": "markdown",
   "metadata": {
    "id": "oC_JSHEBRnt1"
   },
   "source": [
    "Материалы:\n",
    "* Макрушин С.В. Лекция 10: Параллельные вычисления\n",
    "* https://docs.python.org/3/library/multiprocessing.html"
   ]
  },
  {
   "cell_type": "markdown",
   "metadata": {
    "id": "mgKhA5mrRnt2"
   },
   "source": [
    "## Задачи для совместного разбора"
   ]
  },
  {
   "cell_type": "markdown",
   "metadata": {
    "id": "ioa1aQLKRnt3"
   },
   "source": [
    "1. Посчитайте, сколько раз встречается каждый из символов (заглавные и строчные символы не различаются) в файле `Dostoevskiy Fedor. Prestuplenie i nakazanie - BooksCafe.Net.txt` и в файле `Dostoevskiy Fedor. Igrok - BooksCafe.Net.txt`. "
   ]
  },
  {
   "cell_type": "code",
   "execution_count": null,
   "metadata": {
    "id": "8jp_S4Axc8SX"
   },
   "outputs": [],
   "source": [
    "with open('Dostoevskiy Fedor. Prestuplenie i nakazanie - BooksCafe.Net.txt', 'r', encoding=\"windows-1251\") as f:\n",
    "  text = f.read().lower()\n",
    "\n",
    "with open('Dostoevskiy Fedor. Igrok - BooksCafe.Net.txt', 'r', encoding=\"windows-1251\") as f:\n",
    "  text +=  f.read().lower()"
   ]
  },
  {
   "cell_type": "code",
   "execution_count": 1,
   "metadata": {
    "id": "LMoLRougRt1-"
   },
   "outputs": [],
   "source": [
    "from collections import defaultdict"
   ]
  },
  {
   "cell_type": "code",
   "execution_count": null,
   "metadata": {
    "colab": {
     "base_uri": "https://localhost:8080/"
    },
    "id": "ygk6bI9FSRQL",
    "outputId": "cf488174-ea33-4dcf-840c-2e03b7bf37a7"
   },
   "outputs": [
    {
     "name": "stdout",
     "output_type": "stream",
     "text": [
      "CPU times: user 457 ms, sys: 0 ns, total: 457 ms\n",
      "Wall time: 462 ms\n"
     ]
    }
   ],
   "source": [
    "%%time\n",
    "\n",
    "d = defaultdict(int)\n",
    "def counter(key):\n",
    "  d[key] += 1\n",
    "\n",
    "for key in text:\n",
    "  counter(key)"
   ]
  },
  {
   "cell_type": "code",
   "execution_count": null,
   "metadata": {
    "colab": {
     "base_uri": "https://localhost:8080/"
    },
    "id": "09s9VqhZTLIp",
    "outputId": "e90d9285-3e9f-482b-9875-7bc9f1125e2b"
   },
   "outputs": [
    {
     "data": {
      "text/plain": [
       "[('b', 245), ('o', 481), ('k', 37), ('s', 525), ('c', 366)]"
      ]
     },
     "execution_count": 79,
     "metadata": {},
     "output_type": "execute_result"
    }
   ],
   "source": [
    "list(d.items())[20:25]"
   ]
  },
  {
   "cell_type": "code",
   "execution_count": 2,
   "metadata": {
    "id": "uiDKl6mbaU_1"
   },
   "outputs": [],
   "source": [
    "import numpy"
   ]
  },
  {
   "cell_type": "code",
   "execution_count": null,
   "metadata": {
    "colab": {
     "base_uri": "https://localhost:8080/"
    },
    "id": "p_6euOY_bB5T",
    "outputId": "c4d13c73-fc8a-4585-e858-23dddc307c82"
   },
   "outputs": [
    {
     "name": "stdout",
     "output_type": "stream",
     "text": [
      "CPU times: user 359 ms, sys: 46.5 ms, total: 406 ms\n",
      "Wall time: 404 ms\n"
     ]
    }
   ],
   "source": [
    "%%time\n",
    "\n",
    "unique, counts = numpy.unique(list(text), return_counts=True)\n",
    "d = dict(zip(unique, counts))"
   ]
  },
  {
   "cell_type": "code",
   "execution_count": null,
   "metadata": {
    "colab": {
     "base_uri": "https://localhost:8080/"
    },
    "id": "jzP_sLKBagvM",
    "outputId": "d9e935ba-b238-48e7-c7ff-4f0cd4509939"
   },
   "outputs": [
    {
     "data": {
      "text/plain": [
       "[('7', 163), ('8', 335), ('9', 136), (':', 1196), (';', 1728)]"
      ]
     },
     "execution_count": 83,
     "metadata": {},
     "output_type": "execute_result"
    }
   ],
   "source": [
    "list(d.items())[20:25]"
   ]
  },
  {
   "cell_type": "markdown",
   "metadata": {
    "id": "uIhhcm3kRnt3"
   },
   "source": [
    "2. Решить задачу 1, распараллелив вычисления с помощью модуля `multiprocessing`. Для обработки каждого файла создать свой собственный процесс. "
   ]
  },
  {
   "cell_type": "code",
   "execution_count": 3,
   "metadata": {
    "id": "G1cdcJq-TbL_"
   },
   "outputs": [],
   "source": [
    "import multiprocessing"
   ]
  },
  {
   "cell_type": "code",
   "execution_count": null,
   "metadata": {
    "colab": {
     "base_uri": "https://localhost:8080/"
    },
    "id": "SUrc7Y-EWq70",
    "outputId": "2ba67132-8106-4c81-c52a-1b8ffbde8807"
   },
   "outputs": [
    {
     "data": {
      "text/plain": [
       "134969"
      ]
     },
     "execution_count": 169,
     "metadata": {},
     "output_type": "execute_result"
    }
   ],
   "source": [
    "len(text)//11\n",
    "# Все делители числа 1 484 659:\n",
    "# 1, 11,  139,  971, 1 529, 10 681,  134 969, 1 484 659"
   ]
  },
  {
   "cell_type": "code",
   "execution_count": null,
   "metadata": {
    "colab": {
     "base_uri": "https://localhost:8080/"
    },
    "id": "WInEBCjNfaop",
    "outputId": "889f7706-952e-451b-b9c6-8fc35ad5f446"
   },
   "outputs": [
    {
     "name": "stdout",
     "output_type": "stream",
     "text": [
      "CPU times: user 31.9 ms, sys: 69.9 ms, total: 102 ms\n",
      "Wall time: 632 ms\n"
     ]
    }
   ],
   "source": [
    "%%time\n",
    "\n",
    "n_process = 11\n",
    "\n",
    "def process_helper(_text):\n",
    "  d = defaultdict(int)\n",
    "  def counter(key):\n",
    "    d[key] += 1\n",
    "  for i in range(0, len(_text)):\n",
    "    counter(text[i+j])\n",
    "  return d\n",
    "\n",
    "list_text = [text[j*len(text)//n_process:(j+1)*len(text)//n_process] for j in range(n_process)]\n",
    "pool_obj = multiprocessing.Pool()\n",
    "answer = pool_obj.map(process_helper, list_text)\n",
    "\n",
    "def join_dicts(x, y):\n",
    "  return {k: x.get(k, 0) + y.get(k, 0) for k in set(x) | set(y)}\n",
    "\n",
    "d = {}\n",
    "for _d in answer:\n",
    "  d = join_dicts(_d, d)"
   ]
  },
  {
   "cell_type": "code",
   "execution_count": null,
   "metadata": {
    "colab": {
     "base_uri": "https://localhost:8080/"
    },
    "id": "FrKjrqYXmEcB",
    "outputId": "8bec5215-300e-422d-9a46-f864c29db28c"
   },
   "outputs": [
    {
     "data": {
      "text/plain": [
       "[('z', 11), ('л', 52316), (',', 28677), (']', 121), ('k', 88)]"
      ]
     },
     "execution_count": 173,
     "metadata": {},
     "output_type": "execute_result"
    }
   ],
   "source": [
    "list(d.items())[20:25]"
   ]
  },
  {
   "cell_type": "markdown",
   "metadata": {
    "id": "CE9c_LXjRnt3"
   },
   "source": [
    "## Лабораторная работа 10"
   ]
  },
  {
   "cell_type": "code",
   "execution_count": 12,
   "metadata": {
    "colab": {
     "base_uri": "https://localhost:8080/"
    },
    "id": "11rXnpWwjrMt",
    "outputId": "3b6fd074-1b82-41f7-9c9d-2ca06e2d7a9f"
   },
   "outputs": [
    {
     "data": {
      "text/plain": [
       "18126"
      ]
     },
     "execution_count": 12,
     "metadata": {},
     "output_type": "execute_result"
    }
   ],
   "source": [
    "import requests\n",
    "\n",
    "url = 'https://docs.yandex.ru/docs/view?url=ya-disk-public%3A%2F%2FspiubVVFcS0tgFcQE%2F0JPqxqVoZjKwEzANnNTYhpkB2%2BkuBZOqijCDk1CpASYCl6q%2FJ6bpmRyOJonT3VoXnDag%3D%3D%3A%2Fdatasets%2Frecipes_full.csv&name=recipes_full.csv&nosw=1'\n",
    "r = requests.get(url, allow_redirects=True)\n",
    "open('./data/recipes_full.csv', 'wb').write(r.content)"
   ]
  },
  {
   "cell_type": "markdown",
   "metadata": {
    "id": "Y5JP-VukRnt4"
   },
   "source": [
    "1. Разбейте файл `recipes_full.csv` на несколько (например, 8) примерно одинаковых по объему файлов c названиями `id_tag_nsteps_*.csv`. Каждый файл содержит 3 столбца: `id`, `tag` и `n_steps`, разделенных символом `;`. Для разбора строк используйте `csv.reader`.\n",
    "\n",
    "__Важно__: вы не можете загружать в память весь файл сразу. Посмотреть на первые несколько строк файла вы можете, написав код, который считывает эти строки.\n",
    "\n",
    "Подсказка: примерное кол-во строк в файле - 2.3 млн.\n",
    "\n",
    "```\n",
    "id;tag;n_steps\n",
    "137739;60-minutes-or-less;11\n",
    "137739;time-to-make;11\n",
    "137739;course;11\n",
    "```\n"
   ]
  },
  {
   "cell_type": "code",
   "execution_count": 15,
   "metadata": {
    "id": "mj1RGc2Ug6qH"
   },
   "outputs": [
    {
     "ename": "KeyError",
     "evalue": "'id'",
     "output_type": "error",
     "traceback": [
      "\u001b[1;31m---------------------------------------------------------------------------\u001b[0m",
      "\u001b[1;31mKeyError\u001b[0m                                  Traceback (most recent call last)",
      "\u001b[1;32m<ipython-input-15-78191f31967e>\u001b[0m in \u001b[0;36m<module>\u001b[1;34m\u001b[0m\n\u001b[0;32m      7\u001b[0m     \u001b[1;32mfor\u001b[0m \u001b[0mn\u001b[0m\u001b[1;33m,\u001b[0m \u001b[0mrow\u001b[0m \u001b[1;32min\u001b[0m \u001b[0menumerate\u001b[0m\u001b[1;33m(\u001b[0m\u001b[0mreader\u001b[0m\u001b[1;33m)\u001b[0m\u001b[1;33m:\u001b[0m\u001b[1;33m\u001b[0m\u001b[1;33m\u001b[0m\u001b[0m\n\u001b[0;32m      8\u001b[0m         \u001b[0mf_w\u001b[0m \u001b[1;33m=\u001b[0m \u001b[0mf_ws\u001b[0m\u001b[1;33m[\u001b[0m\u001b[0mn\u001b[0m\u001b[1;33m%\u001b[0m\u001b[0mn_f_ws\u001b[0m\u001b[1;33m]\u001b[0m\u001b[1;33m\u001b[0m\u001b[1;33m\u001b[0m\u001b[0m\n\u001b[1;32m----> 9\u001b[1;33m         \u001b[0mr\u001b[0m \u001b[1;33m=\u001b[0m \u001b[1;33m[\u001b[0m\u001b[0mrow\u001b[0m\u001b[1;33m[\u001b[0m\u001b[1;34m'id'\u001b[0m\u001b[1;33m]\u001b[0m\u001b[1;33m,\u001b[0m \u001b[0mrow\u001b[0m\u001b[1;33m[\u001b[0m\u001b[1;34m'tags'\u001b[0m\u001b[1;33m]\u001b[0m\u001b[1;33m,\u001b[0m \u001b[0mrow\u001b[0m\u001b[1;33m[\u001b[0m\u001b[1;34m'n_steps'\u001b[0m\u001b[1;33m]\u001b[0m\u001b[1;33m]\u001b[0m\u001b[1;33m\u001b[0m\u001b[1;33m\u001b[0m\u001b[0m\n\u001b[0m\u001b[0;32m     10\u001b[0m         \u001b[1;32mwith\u001b[0m \u001b[0mopen\u001b[0m\u001b[1;33m(\u001b[0m\u001b[0mf_w\u001b[0m\u001b[1;33m,\u001b[0m \u001b[1;34m'a+'\u001b[0m\u001b[1;33m,\u001b[0m \u001b[0mnewline\u001b[0m\u001b[1;33m=\u001b[0m\u001b[1;34m''\u001b[0m\u001b[1;33m)\u001b[0m \u001b[1;32mas\u001b[0m \u001b[0mw\u001b[0m\u001b[1;33m:\u001b[0m\u001b[1;33m\u001b[0m\u001b[1;33m\u001b[0m\u001b[0m\n\u001b[0;32m     11\u001b[0m             \u001b[0mcsv\u001b[0m\u001b[1;33m.\u001b[0m\u001b[0mwriter\u001b[0m\u001b[1;33m(\u001b[0m\u001b[0mw\u001b[0m\u001b[1;33m)\u001b[0m\u001b[1;33m.\u001b[0m\u001b[0mwriterow\u001b[0m\u001b[1;33m(\u001b[0m\u001b[0mr\u001b[0m\u001b[1;33m)\u001b[0m\u001b[1;33m\u001b[0m\u001b[1;33m\u001b[0m\u001b[0m\n",
      "\u001b[1;31mKeyError\u001b[0m: 'id'"
     ]
    }
   ],
   "source": [
    "import csv\n",
    "\n",
    "n_f_ws = 8\n",
    "f_ws = [f'id_tag_nsteps_{i}.csv' for i in range(n_f_ws)]\n",
    "with open('./data/recipes_full.csv') as f:  \n",
    "    reader = csv.DictReader(f)\n",
    "    for n, row in enumerate(reader):\n",
    "        f_w = f_ws[n%n_f_ws]\n",
    "        r = [row['id'], row['tags'], row['n_steps']]\n",
    "        with open(f_w, 'a+', newline='') as w:\n",
    "            csv.writer(w).writerow(r)"
   ]
  },
  {
   "cell_type": "markdown",
   "metadata": {
    "id": "sNm2j8KnRnt5"
   },
   "source": [
    "2. Напишите функцию, которая принимает на вход название файла, созданного в результате решения задачи 1, считает среднее значение количества шагов для каждого тэга и возвращает результат в виде словаря."
   ]
  },
  {
   "cell_type": "code",
   "execution_count": 11,
   "metadata": {
    "colab": {
     "base_uri": "https://localhost:8080/"
    },
    "id": "lTQSsYlrgsjS",
    "outputId": "1385b352-a829-448b-dbfc-c5831aa6fe1b"
   },
   "outputs": [
    {
     "data": {
      "text/plain": [
       "{'mexican': 4.5,\n",
       " 'healthy-2': 6.0,\n",
       " 'orange-roughy': 4.0,\n",
       " 'chicken-thighs-legs': 5.0,\n",
       " 'freezer': 6.666666666666667,\n",
       " 'whitefish': 4.0,\n",
       " 'pork-sausage': 4.0,\n",
       " 'filipino': 4.0,\n",
       " 'for-large-groups': 7.0,\n",
       " 'pasta-salad': 4.0,\n",
       " 'rosh-hashana': 4.75,\n",
       " 'cambodian': 5.5,\n",
       " 'pasta': 6.75,\n",
       " 'fruit': 4.0,\n",
       " 'cabbage': 6.0,\n",
       " 'grains': 6.0,\n",
       " 'equipment': 9.375,\n",
       " 'lime': 5.0,\n",
       " 'low-sodium': 5.333333333333333,\n",
       " 'bass': 5.0,\n",
       " 'meatballs': 3.0,\n",
       " 'veal': 3.0,\n",
       " 'prepared-potatoes': 3.5,\n",
       " 'oaxacan': 3.5,\n",
       " 'collard-greens': 3.5,\n",
       " 'pheasant': 6.0,\n",
       " 'fudge': 6.0,\n",
       " 'micro-melanesia': 6.0,\n",
       " 'cajun': 5.0,\n",
       " 'breakfast-eggs': 6.0,\n",
       " 'honduran': 5.0,\n",
       " 'halloween-cocktails': 5.0,\n",
       " 'beef': 5.8,\n",
       " 'irish': 3.5,\n",
       " 'turkey': 8.333333333333334,\n",
       " 'Throw the ultimate fiesta with this sopaipillas recipe from Food.com.': 3.3333333333333335,\n",
       " 'gluten-free': 3.6666666666666665,\n",
       " 'pickeral': 3.3333333333333335,\n",
       " 'south-american': 4.0,\n",
       " 'black-bean-soup': 2.0,\n",
       " 'pasta-rice-and-grains': 5.75,\n",
       " 'food-processor-blender': 2.0,\n",
       " 'british-columbian': 1.5,\n",
       " 'salads': 1.0,\n",
       " 'baja': 1.0,\n",
       " 'georgian': 1.0,\n",
       " 'beef-barley-soup': 2.5,\n",
       " 'beef-sauces': 1.0,\n",
       " 'pitted-fruit': 1.0,\n",
       " 'herb-and-spice-mixes': 4.333333333333333,\n",
       " 'weeknight': 7.5,\n",
       " 'time-to-make': 8.88888888888889,\n",
       " 'course': 8.2,\n",
       " 'main-ingredient': 8.4,\n",
       " 'cuisine': 9.25,\n",
       " 'preparation': 8.3,\n",
       " 'occasion': 6.75,\n",
       " 'north-american': 10.333333333333334,\n",
       " 'lunch': 5.4,\n",
       " 'main-dish': 11.166666666666666,\n",
       " 'soups-stews': 10.0,\n",
       " 'vegetables': 7.5,\n",
       " 'american': 9.333333333333334,\n",
       " 'southern-united-states': 10.0,\n",
       " 'easy': 8.2,\n",
       " 'beginner-cook': 10.0,\n",
       " 'fall': 10.0,\n",
       " 'heirloom-historical': 9.666666666666666,\n",
       " 'holiday-event': 13.5,\n",
       " 'kid-friendly': 6.0,\n",
       " 'winter': 10.0,\n",
       " 'stove-top': 12.2,\n",
       " 'dietary': 6.666666666666667,\n",
       " 'one-dish-meal': 13.5,\n",
       " 'low-cholesterol': 7.5,\n",
       " 'seasonal': 7.5,\n",
       " 'low-saturated-fat': 10.0,\n",
       " 'low-calorie': 6.833333333333333,\n",
       " 'comfort-food': 9.333333333333334,\n",
       " 'oamc-freezer-make-ahead': 10.0,\n",
       " 'low-carb': 6.75,\n",
       " 'inexpensive': 11.0,\n",
       " 'ground-beef': 6.0,\n",
       " 'low-in-something': 7.0,\n",
       " 'meat': 9.25,\n",
       " 'spaghetti': 10.0,\n",
       " 'taste-mood': 6.571428571428571,\n",
       " 'number-of-servings': 6.2,\n",
       " '4-hours-or-less': 7.0,\n",
       " 'turkish': 2.0,\n",
       " 'jewish-ashkenazi': 2.0,\n",
       " 'sandwiches': 3.5,\n",
       " 'pot-roast': 3.5,\n",
       " 'curries': 2.0,\n",
       " 'pies': 5.5,\n",
       " 'vietnamese': 5.5,\n",
       " 'drop-cookies': 5.5,\n",
       " 'pressure-canning': 5.0,\n",
       " 'no-cook': 5.5,\n",
       " 'tempeh': 5.0,\n",
       " 'breakfast': 3.0,\n",
       " 'carrots': 5.0,\n",
       " 'cake-fillings-and-frostings': 5.0,\n",
       " 'cauliflower': 5.0,\n",
       " 'octopus': 2.0,\n",
       " 'nuts': 2.0,\n",
       " 'chicken-livers': 4.0,\n",
       " 'baking': 3.0,\n",
       " 'cakes': 3.0,\n",
       " 'brunch': 5.0,\n",
       " 'main-dish-pasta': 5.0,\n",
       " 'moroccan': 5.0,\n",
       " 'high-calcium': 3.5,\n",
       " 'beef-sausage': 3.5,\n",
       " 'greek': 5.0,\n",
       " 'danish': 5.0,\n",
       " 'coconut': 5.0,\n",
       " 'roast-beef-comfort-food': 3.6666666666666665,\n",
       " 'breakfast-casseroles': 5.0,\n",
       " 'strawberries': 5.0,\n",
       " 'cobblers-and-crisps': 5.0,\n",
       " 'free-of-something': 5.0,\n",
       " 'duck': 5.0,\n",
       " 'south-west-pacific': 1.0,\n",
       " 'ravioli-tortellini': 1.0,\n",
       " 'quail': 3.5,\n",
       " 'asparagus': 3.0,\n",
       " 'roast-beef': 3.5,\n",
       " 'lemon': 5.0,\n",
       " 'goose': 5.0,\n",
       " 'new-zealand': 4.0,\n",
       " 'beef-kidney': 1.0,\n",
       " 'zucchini': 2.5,\n",
       " 'a1-sauce': 2.0,\n",
       " 'argentine': 1.6666666666666667,\n",
       " 'mahi-mahi': 1.0,\n",
       " 'dips-summer': 3.0,\n",
       " 'cheesecake': 3.0,\n",
       " 'macaroni-and-cheese': 3.0,\n",
       " 'norwegian': 3.6666666666666665,\n",
       " 'mushroom-soup': 3.25,\n",
       " 'korean': 3.0,\n",
       " 'pears': 3.0,\n",
       " '30-minutes-or-less': 13.5,\n",
       " 'poultry': 12.75,\n",
       " 'finger-food': 21.0,\n",
       " 'chicken': 11.0,\n",
       " 'presentation': 11.5,\n",
       " 'served-hot': 21.0,\n",
       " 'punch': 4.0,\n",
       " 'hunan': 4.0,\n",
       " 'pakistani': 3.5,\n",
       " 'african': 4.0,\n",
       " 'pressure-cooker': 4.0,\n",
       " 'smoothies': 1.0,\n",
       " 'apples': 3.0,\n",
       " 'camping': 1.0,\n",
       " 'amish-mennonite': 1.0,\n",
       " 'sweet-sauces': 1.0,\n",
       " 'rolled-cookies': 1.0,\n",
       " 'chilean': 1.0,\n",
       " 'beef-crock-pot': 5.0,\n",
       " 'burgers': 5.0,\n",
       " 'pennsylvania-dutch': 4.0,\n",
       " 'south-african': 4.0,\n",
       " 'welsh': 3.0,\n",
       " 'bacon': 3.0,\n",
       " '5-ingredients-or-less': 2.0,\n",
       " 'stir-fry': 4.0,\n",
       " 'less_thansql:name_topics_of_recipegreater_than': 2.5,\n",
       " 'halibut': 4.0,\n",
       " 'water-bath': 4.0,\n",
       " 'tex-mex': 1.0,\n",
       " 'citrus': 1.0,\n",
       " 'breakfast-potatoes': 1.0,\n",
       " 'beef-ribs': 1.0,\n",
       " 'cupcakes': 5.0,\n",
       " 'central-american': 2.0,\n",
       " 'lobster': 3.0,\n",
       " 'pasta-elbow-macaroni': 3.0,\n",
       " 'kiwifruit': 3.0,\n",
       " 'czech': 2.3333333333333335,\n",
       " 'mussels': 3.5,\n",
       " 'canning': 3.0,\n",
       " 'rabbit': 4.0,\n",
       " 'chocolate': 2.0,\n",
       " 'dutch': 2.0,\n",
       " 'spicy': 3.5,\n",
       " 'german': 2.0,\n",
       " 'quiche': 5.0,\n",
       " 'labor-day': 5.0,\n",
       " 'hanukkah': 5.5,\n",
       " 'salad-dressings': 5.0,\n",
       " 'cocktails': 1.0,\n",
       " 'veggie-burgers': 1.0,\n",
       " '15-minutes-or-less': 4.0,\n",
       " 'for-1-or-2': 5.0,\n",
       " 'european': 5.0,\n",
       " 'italian': 5.0,\n",
       " 'chicken-breasts': 8.75,\n",
       " 'savory': 5.333333333333333,\n",
       " 'snacks-kid-friendly': 4.0,\n",
       " 'stews': 6.0,\n",
       " 'savory-sauces': 6.0,\n",
       " 'stuffings-dressings': 6.0,\n",
       " 'pasta-rice-and-grains-elbow-macaroni': 6.0,\n",
       " 'namibian': 3.5,\n",
       " 'pasta-shells': 6.0,\n",
       " 'ethiopian': 2.0,\n",
       " 'raspberries': 2.0,\n",
       " 'infant-baby-friendly': 2.0,\n",
       " 'swedish': 3.5,\n",
       " 'costa-rican': 6.0,\n",
       " 'vegetarian': 6.0,\n",
       " 'yams-sweet-potatoes': 4.0,\n",
       " 'peanut-butter': 6.0,\n",
       " 'cinco-de-mayo': 6.0,\n",
       " 'easter': 3.0,\n",
       " 'laotian': 3.0,\n",
       " 'avocado': 5.0,\n",
       " 'guatemalan': 5.0,\n",
       " 'pork-chops': 5.0,\n",
       " 'moose': 3.0,\n",
       " 'iraqi': 3.0,\n",
       " 'polynesian': 2.5,\n",
       " 'desserts': 4.0,\n",
       " 'rosh-hashanah': 2.5,\n",
       " 'simply-potatoes2': 3.0,\n",
       " 'dips-lunch-snacks': 3.0,\n",
       " 'plums': 3.0,\n",
       " 'jams-and-preserves': 3.0,\n",
       " 'to-go': 10.333333333333334,\n",
       " 'puddings-and-mousses': 4.5,\n",
       " 'sourdough': 5.0,\n",
       " 'eggplant': 5.0,\n",
       " 'nigerian': 5.0,\n",
       " 'oranges': 5.0,\n",
       " 'cuban': 5.0,\n",
       " 'diabetic': 5.0,\n",
       " 'shakes': 3.0,\n",
       " 'pork-crock-pot': 5.0,\n",
       " 'corn': 5.0,\n",
       " 'steam': 1.0,\n",
       " 'garnishes': 1.0,\n",
       " 'main-dish-chicken': 4.0,\n",
       " 'mardi-gras-carnival': 4.0,\n",
       " 'rice': 4.0,\n",
       " 'new-years': 4.0,\n",
       " 'crusts-pastry-dough-2': 4.0,\n",
       " 'smoker': 2.0,\n",
       " 'bean-soup': 2.0,\n",
       " 'bear': 2.0,\n",
       " 'main-dish-seafood': 1.5,\n",
       " 'april-fools-day': 2.0,\n",
       " 'puerto-rican': 2.3333333333333335,\n",
       " 'salsas': 2.0,\n",
       " 'casseroles': 2.0,\n",
       " 'for-large-groups-holiday-event': 1.0,\n",
       " 'manicotti': 1.0,\n",
       " 'irish-st-patricks-day': 1.0,\n",
       " 'jellies': 1.0,\n",
       " 'beans': 2.5,\n",
       " 'reynolds-wrap': 1.0,\n",
       " 'copycat': 1.0,\n",
       " 'spaghetti-sauce': 2.5,\n",
       " 'black-beans': 1.0,\n",
       " 'hawaiian': 3.0,\n",
       " 'spreads': 3.0,\n",
       " 'elbow-macaroni': 3.0,\n",
       " 'pork': 4.666666666666667,\n",
       " 'refrigerator': 2.5,\n",
       " 'heirloom-historical-recipes': 4.0,\n",
       " 'blueberries': 1.0,\n",
       " 'tomatoes': 3.0,\n",
       " 'papaya': 1.5,\n",
       " '60-minutes-or-less': 10.0,\n",
       " 'low-protein': 5.0,\n",
       " 'bread-machine': 6.0,\n",
       " 'saltwater-fish': 3.6666666666666665,\n",
       " 'libyan': 6.0,\n",
       " 'seafood': 2.5,\n",
       " 'fish': 2.5,\n",
       " 'high-protein': 5.5,\n",
       " 'tuna': 3.5,\n",
       " 'high-in-something': 5.5,\n",
       " '3-steps-or-less': 4.0,\n",
       " 'crawfish': 4.0,\n",
       " 'eggs': 4.0,\n",
       " 'peaches': 3.0,\n",
       " 'bisques-cream-soups': 3.0,\n",
       " 'savory-pies': 17.0,\n",
       " 'oven': 9.5,\n",
       " 'potluck': 17.0,\n",
       " 'small-appliance': 4.5,\n",
       " 'indian': 5.0,\n",
       " 'yeast': 4.0,\n",
       " 'swiss': 4.0,\n",
       " 'thai': 4.0,\n",
       " 'cod': 2.0,\n",
       " 'brownies': 2.0,\n",
       " 'crock-pot-slow-cooker': 2.0,\n",
       " 'english': 2.0,\n",
       " 'lamb-sheep-main-dish': 2.0,\n",
       " 'middle-eastern': 3.0,\n",
       " 'perch': 3.0,\n",
       " 'ice-cream': 2.0,\n",
       " 'pork-ribs': 5.0,\n",
       " 'clear-soups': 5.0,\n",
       " 'candy': 5.0,\n",
       " 'bok-choys': 5.0,\n",
       " 'deep-fry': 2.0,\n",
       " 'picnic': 5.0,\n",
       " 'pies-and-tarts': 5.0,\n",
       " 'scandinavian': 5.0,\n",
       " 'fathers-day': 6.0,\n",
       " 'oysters': 6.0,\n",
       " 'belgian': 6.0,\n",
       " 'tarts': 6.0,\n",
       " 'kosher': 2.0,\n",
       " 'chowders': 2.0,\n",
       " 'grapes': 2.0,\n",
       " 'hidden-valley-ranch': 2.5,\n",
       " 'sauces': 4.0,\n",
       " 'roast': 4.0,\n",
       " 'scottish': 4.0,\n",
       " 'beef-organ-meats': 4.0,\n",
       " 'lebanese': 2.0,\n",
       " 'ham': 2.0,\n",
       " 'spring': 2.0,\n",
       " 'broil': 1.0,\n",
       " 'chick-peas-garbanzos': 1.0,\n",
       " 'stocks': 1.0,\n",
       " 'summer': 1.0,\n",
       " 'pumpkin': 1.0,\n",
       " 'soy-tofu': 1.0,\n",
       " 'omelets-and-frittatas': 1.0,\n",
       " 'granola-and-porridge': 1.0,\n",
       " 'very-low-carbs': 8.0,\n",
       " 'st-patricks-day': 2.0,\n",
       " 'artichoke': 6.0,\n",
       " 'icelandic': 6.0,\n",
       " 'lamb-sheep': 5.0,\n",
       " 'cantonese': 4.0,\n",
       " 'marinades-and-rubs': 4.0,\n",
       " 'cookies-and-brownies': 4.0,\n",
       " 'pumpkin-bread': 4.0}"
      ]
     },
     "execution_count": 11,
     "metadata": {},
     "output_type": "execute_result"
    }
   ],
   "source": [
    "from collections import defaultdict\n",
    "import ast\n",
    "\n",
    "def get_mean_steps_by_tag(fname):\n",
    "  tags_and_steps = defaultdict(list)\n",
    "  with open(fname) as f:  \n",
    "    reader = csv.reader(f)\n",
    "    for row in reader:\n",
    "      tags = ast.literal_eval(row[1])\n",
    "      steps = int(row[2])\n",
    "      for tag in tags:\n",
    "        tags_and_steps[tag].append(steps)\n",
    "  del tags_and_steps['']\n",
    "  tags_and_steps = dict(zip(\n",
    "    list(tags_and_steps.keys()), \n",
    "    list(map(lambda x: sum(tags_and_steps[x])/len(tags_and_steps[x]), tags_and_steps))\n",
    "  ))\n",
    "  return tags_and_steps\n",
    "\n",
    "get_mean_steps_by_tag('id_tag_nsteps_0.csv')"
   ]
  },
  {
   "cell_type": "markdown",
   "metadata": {
    "id": "NUs3J9RFRnt6"
   },
   "source": [
    "3. Напишите функцию, которая считает среднее значение количества шагов для каждого тэга по всем файлам, полученным в задаче 1, и возвращает результат в виде словаря. Не используйте параллельных вычислений. При реализации выделите функцию, которая объединяет результаты обработки отдельных файлов. Модифицируйте код из задачи 2 таким образом, чтобы иметь возможность получить результат, имея результаты обработки отдельных файлов. Определите, за какое время задача решается для всех файлов.\n"
   ]
  },
  {
   "cell_type": "code",
   "execution_count": null,
   "metadata": {
    "colab": {
     "base_uri": "https://localhost:8080/"
    },
    "id": "6cF_osGWgtDh",
    "outputId": "35867eb9-3b26-46f1-8fd2-711a6c1ae99d"
   },
   "outputs": [
    {
     "name": "stdout",
     "output_type": "stream",
     "text": [
      "Файл в процессе: id_tag_nsteps_0.csv\n",
      "Файл  обработан: id_tag_nsteps_0.csv\n",
      "Файл в процессе: id_tag_nsteps_1.csv\n",
      "Файл  обработан: id_tag_nsteps_1.csv\n",
      "Файл в процессе: id_tag_nsteps_2.csv\n",
      "Файл  обработан: id_tag_nsteps_2.csv\n",
      "Файл в процессе: id_tag_nsteps_3.csv\n",
      "Файл  обработан: id_tag_nsteps_3.csv\n",
      "Файл в процессе: id_tag_nsteps_4.csv\n",
      "Файл  обработан: id_tag_nsteps_4.csv\n",
      "Файл в процессе: id_tag_nsteps_5.csv\n",
      "Файл  обработан: id_tag_nsteps_5.csv\n",
      "Файл в процессе: id_tag_nsteps_6.csv\n",
      "Файл  обработан: id_tag_nsteps_6.csv\n",
      "Файл в процессе: id_tag_nsteps_7.csv\n",
      "Файл  обработан: id_tag_nsteps_7.csv\n",
      "[('mexican', 5.302344316442439), ('healthy-2', 6.384162244806188), ('orange-roughy', 3.513425052701653), ('chicken-thighs-legs', 4.145581465931509), ('freezer', 4.033042234819468), ('whitefish', 3.514734127201888), ('pork-sausage', 4.256068444090729), ('filipino', 3.575355140695586), ('for-large-groups', 7.292883853009813), ('pasta-salad', 3.5048206710374084)]\n",
      "CPU times: user 50.2 s, sys: 1.26 s, total: 51.4 s\n",
      "Wall time: 50.9 s\n"
     ]
    }
   ],
   "source": [
    "%%time\n",
    "\n",
    "from collections import defaultdict\n",
    "import ast\n",
    "\n",
    "def get_steps_and_tag(fname):\n",
    "  print('Файл в процессе:', fname)\n",
    "  tags_and_steps = defaultdict(list)\n",
    "  with open(fname) as f:  \n",
    "    reader = csv.reader(f)\n",
    "    for row in reader:\n",
    "      tags = ast.literal_eval(row[1])\n",
    "      steps = int(row[2])\n",
    "      for tag in tags:\n",
    "        tags_and_steps[tag].append(steps)\n",
    "  del tags_and_steps['']\n",
    "  print('Файл  обработан:', fname)\n",
    "  return tags_and_steps\n",
    "\n",
    "def disp_all_files(n=8):\n",
    "  tags_and_steps = defaultdict(list)\n",
    "  for i in range(n):\n",
    "    cur = get_steps_and_tag(f'id_tag_nsteps_{i}.csv')\n",
    "    for key, value in cur.items():\n",
    "      tags_and_steps[key] += value\n",
    "  tags_and_steps = dict(zip(\n",
    "    list(tags_and_steps.keys()), \n",
    "    list(map(lambda x: sum(tags_and_steps[x])/len(tags_and_steps[x]), tags_and_steps))\n",
    "  ))\n",
    "  return tags_and_steps\n",
    "\n",
    "print(list(disp_all_files().items())[:10])"
   ]
  },
  {
   "cell_type": "markdown",
   "metadata": {
    "id": "0luVzgkXRnt7"
   },
   "source": [
    "4. Решите задачу 3, распараллелив вычисления с помощью модуля `multiprocessing`. Для обработки каждого файла создайте свой собственный процесс. Определите, за какое время задача решается для всех файлов."
   ]
  },
  {
   "cell_type": "code",
   "execution_count": null,
   "metadata": {
    "colab": {
     "base_uri": "https://localhost:8080/"
    },
    "id": "TevmeefNu45Q",
    "outputId": "c0ce4948-e3cc-44fa-f931-2cd47e9573aa"
   },
   "outputs": [
    {
     "name": "stdout",
     "output_type": "stream",
     "text": [
      "Файл в процессе: id_tag_nsteps_0.csv\n",
      "Файл в процессе: id_tag_nsteps_1.csv\n",
      "Файл  обработан: id_tag_nsteps_1.csv\n",
      "Файл  обработан: id_tag_nsteps_0.csv\n",
      "Файл в процессе: id_tag_nsteps_2.csv\n",
      "Файл в процессе: id_tag_nsteps_3.csv\n",
      "Файл  обработан: id_tag_nsteps_2.csv\n",
      "Файл в процессе: id_tag_nsteps_4.csv\n",
      "Файл  обработан: id_tag_nsteps_3.csv\n",
      "Файл в процессе: id_tag_nsteps_5.csv\n",
      "Файл  обработан: id_tag_nsteps_4.csv\n",
      "Файл в процессе: id_tag_nsteps_6.csv\n",
      "Файл  обработан: id_tag_nsteps_5.csv\n",
      "Файл в процессе: id_tag_nsteps_7.csv\n",
      "Файл  обработан: id_tag_nsteps_6.csv\n",
      "Файл  обработан: id_tag_nsteps_7.csv\n",
      "[('mexican', 5.302344316442439), ('healthy-2', 6.384162244806188), ('orange-roughy', 3.513425052701653), ('chicken-thighs-legs', 4.145581465931509), ('freezer', 4.033042234819468), ('whitefish', 3.514734127201888), ('pork-sausage', 4.256068444090729), ('filipino', 3.575355140695586), ('for-large-groups', 7.292883853009813), ('pasta-salad', 3.5048206710374084)]\n",
      "CPU times: user 1.26 s, sys: 992 ms, total: 2.25 s\n",
      "Wall time: 46.2 s\n"
     ]
    }
   ],
   "source": [
    "%%time\n",
    "\n",
    "from collections import defaultdict\n",
    "import ast\n",
    "import multiprocessing\n",
    "\n",
    "def get_steps_and_tag(fname):\n",
    "  print('Файл в процессе:', fname)\n",
    "  tags_and_steps = defaultdict(list)\n",
    "  with open(fname) as f:  \n",
    "    reader = csv.reader(f)\n",
    "    for row in reader:\n",
    "      tags = ast.literal_eval(row[1])\n",
    "      steps = int(row[2])\n",
    "      for tag in tags:\n",
    "        tags_and_steps[tag].append(steps)\n",
    "  del tags_and_steps['']\n",
    "  print('Файл  обработан:', fname)\n",
    "  return tags_and_steps\n",
    "\n",
    "def disp_all_files(n=8, proc_n=2):\n",
    "  tags_and_steps = defaultdict(list)\n",
    "  fnames = [f'id_tag_nsteps_{i}.csv' for i in range(n)]\n",
    "  all = multiprocessing.Pool(processes=proc_n).map(get_steps_and_tag, fnames)\n",
    "  for cur in all:\n",
    "    for key, value in cur.items():\n",
    "      tags_and_steps[key] += value\n",
    "  tags_and_steps = dict(zip(\n",
    "    list(tags_and_steps.keys()), \n",
    "    list(map(lambda x: sum(tags_and_steps[x])/len(tags_and_steps[x]), tags_and_steps))\n",
    "  ))\n",
    "  return tags_and_steps\n",
    "\n",
    "print(list(disp_all_files().items())[:10])"
   ]
  },
  {
   "cell_type": "markdown",
   "metadata": {
    "id": "Vuw5BJx8Rnt8"
   },
   "source": [
    "5. (*) Решите задачу 3, распараллелив вычисления с помощью модуля `multiprocessing`. Создайте фиксированное количество процессов (равное половине количества ядер на компьютере). При помощи очереди передайте названия файлов для обработки процессам и при помощи другой очереди заберите от них ответы. "
   ]
  },
  {
   "cell_type": "code",
   "execution_count": null,
   "metadata": {
    "colab": {
     "base_uri": "https://localhost:8080/"
    },
    "id": "XhHmiz1s3i55",
    "outputId": "63341e75-937e-413e-c41e-9293c2f9bc08"
   },
   "outputs": [
    {
     "name": "stdout",
     "output_type": "stream",
     "text": [
      "Размер  очереди: 8\n",
      "Файл в процессе: id_tag_nsteps_0.csv\n",
      "Размер  очереди: 7\n",
      "Файл в процессе: id_tag_nsteps_1.csv\n",
      "Файл  обработан: id_tag_nsteps_1.csv\n",
      "Размер  очереди: 6\n",
      "Файл в процессе: id_tag_nsteps_2.csv\n",
      "Файл  обработан: id_tag_nsteps_0.csv\n",
      "Размер  очереди: 5\n",
      "Файл в процессе: id_tag_nsteps_3.csv\n",
      "Файл  обработан: id_tag_nsteps_2.csv\n",
      "Размер  очереди: 4\n",
      "Файл в процессе: id_tag_nsteps_4.csv\n",
      "Файл  обработан: id_tag_nsteps_3.csv\n",
      "Размер  очереди: 3\n",
      "Файл в процессе: id_tag_nsteps_5.csv\n"
     ]
    }
   ],
   "source": [
    "%%time\n",
    "\n",
    "from collections import defaultdict\n",
    "import ast\n",
    "import multiprocessing\n",
    "\n",
    "def get_steps_and_tag(q_in, q_out):\n",
    "  while not q_in.empty():\n",
    "    print('Размер  очереди:', q_in.qsize())\n",
    "    fname = q_in.get()\n",
    "    print('Файл в процессе:', fname)\n",
    "    tags_and_steps = defaultdict(list)\n",
    "    with open(fname) as f:  \n",
    "      reader = csv.reader(f)\n",
    "      n = 0\n",
    "      for row in reader:\n",
    "        tags = ast.literal_eval(row[1])\n",
    "        steps = int(row[2])\n",
    "        for tag in tags:\n",
    "          tags_and_steps[tag].append(steps)\n",
    "    del tags_and_steps['']\n",
    "    print('Файл  обработан:', fname)\n",
    "    q_out.put(tags_and_steps)\n",
    "  return True\n",
    "\n",
    "def disp_all_files(n=8, proc_n=2):\n",
    "  tags_and_steps = defaultdict(list)\n",
    "  q_out = multiprocessing.Queue()\n",
    "  q_in = multiprocessing.Queue()\n",
    "  fnames = [f'id_tag_nsteps_{i}.csv' for i in range(n)]\n",
    "  _ = [q_in.put(fname) for fname in fnames]\n",
    "  ps = [multiprocessing.Process(target=get_steps_and_tag, args=(q_in, q_out,)) for _ in range(proc_n)]\n",
    "  _ = [p.start() for p in ps]\n",
    "  all = [q_out.get() for _ in fnames]\n",
    "  for cur in all:\n",
    "    for key, value in cur.items():\n",
    "      tags_and_steps[key] += value\n",
    "  tags_and_steps = dict(zip(\n",
    "    list(tags_and_steps.keys()), \n",
    "    list(map(lambda x: sum(tags_and_steps[x])/len(tags_and_steps[x]), tags_and_steps))\n",
    "  ))\n",
    "  return tags_and_steps\n",
    "\n",
    "print(list(disp_all_files().items())[:10])"
   ]
  },
  {
   "cell_type": "code",
   "execution_count": null,
   "metadata": {
    "colab": {
     "base_uri": "https://localhost:8080/"
    },
    "id": "dGi_STjTETtk",
    "outputId": "b6aed5bc-79a6-4467-cf3a-5bb3da0c719b"
   },
   "outputs": [
    {
     "name": "stdout",
     "output_type": "stream",
     "text": [
      "Размер  очереди: 3\n",
      "Размер  очереди: 3\n",
      "Размер  очереди: 2\n",
      "Размер  очереди: 1\n",
      "[2, 4, 6]\n"
     ]
    }
   ],
   "source": [
    "import time\n",
    "\n",
    "def he(q_in, q_out):\n",
    "  while not q_in.empty():\n",
    "    print('Размер  очереди:', q_in.qsize())\n",
    "    time.sleep(1)\n",
    "    fname = q_in.get()\n",
    "    q_out.put(fname*2)\n",
    "  return True\n",
    "\n",
    "\n",
    "q_out = multiprocessing.Queue()\n",
    "q_in = multiprocessing.Queue()\n",
    "fnames = [1,2,3]\n",
    "_ = [q_in.put(fname) for fname in fnames]\n",
    "ps = [multiprocessing.Process(target=he, args=(q_in, q_out,)) for _ in range(2)]\n",
    "for p in ps:\n",
    "  p.daemon = True\n",
    "_ = [p.start() for p in ps]\n",
    "# _ = [p.join() for p in ps]\n",
    "all = [q_out.get() for _ in fnames]\n",
    "print(all)"
   ]
  }
 ],
 "metadata": {
  "colab": {
   "collapsed_sections": [],
   "name": "10_multiprocessing_Alekseev_Leonid.ipynb",
   "provenance": []
  },
  "kernelspec": {
   "display_name": "Python 3",
   "language": "python",
   "name": "python3"
  },
  "language_info": {
   "codemirror_mode": {
    "name": "ipython",
    "version": 3
   },
   "file_extension": ".py",
   "mimetype": "text/x-python",
   "name": "python",
   "nbconvert_exporter": "python",
   "pygments_lexer": "ipython3",
   "version": "3.8.8"
  }
 },
 "nbformat": 4,
 "nbformat_minor": 1
}
