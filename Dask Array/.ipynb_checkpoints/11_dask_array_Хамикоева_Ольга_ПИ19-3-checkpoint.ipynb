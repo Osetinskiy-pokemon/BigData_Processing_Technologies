{
 "cells": [
  {
   "cell_type": "markdown",
   "metadata": {},
   "source": [
    "# Dask Array"
   ]
  },
  {
   "cell_type": "markdown",
   "metadata": {},
   "source": [
    "Материалы:\n",
    "* Макрушин С.В. Лекция 11: Dask\n",
    "* https://docs.dask.org/en/latest/array.html\n",
    "* JESSE C. DANIEL. Data Science with Python and Dask. "
   ]
  },
  {
   "cell_type": "markdown",
   "metadata": {},
   "source": [
    "## Задачи для совместного разбора"
   ]
  },
  {
   "cell_type": "code",
   "execution_count": 1,
   "metadata": {},
   "outputs": [],
   "source": [
    "import numpy as np\n",
    "import dask\n",
    "import dask.array as da\n",
    "import h5py"
   ]
  },
  {
   "cell_type": "code",
   "execution_count": 2,
   "metadata": {},
   "outputs": [
    {
     "data": {
      "text/plain": [
       "'2021.11.2'"
      ]
     },
     "execution_count": 2,
     "metadata": {},
     "output_type": "execute_result"
    }
   ],
   "source": [
    "dask.__version__"
   ]
  },
  {
   "cell_type": "code",
   "execution_count": null,
   "metadata": {},
   "outputs": [],
   "source": []
  },
  {
   "cell_type": "markdown",
   "metadata": {},
   "source": [
    "1. Создайте массив размерностью 1000 на 300000, заполненный числами из стандартного нормального распределения. Исследуйте основные характеристики полученного массива."
   ]
  },
  {
   "cell_type": "code",
   "execution_count": 3,
   "metadata": {},
   "outputs": [
    {
     "name": "stdout",
     "output_type": "stream",
     "text": [
      "Wall time: 8.19 s\n"
     ]
    }
   ],
   "source": [
    "%%time\n",
    "arr_np = np.random.normal(0, 1, size=(1000, 300_000))"
   ]
  },
  {
   "cell_type": "code",
   "execution_count": 4,
   "metadata": {},
   "outputs": [
    {
     "name": "stdout",
     "output_type": "stream",
     "text": [
      "Wall time: 170 ms\n"
     ]
    },
    {
     "data": {
      "text/html": [
       "<table>\n",
       "    <tr>\n",
       "        <td>\n",
       "            <table>\n",
       "                <thead>\n",
       "                    <tr>\n",
       "                        <td> </td>\n",
       "                        <th> Array </th>\n",
       "                        <th> Chunk </th>\n",
       "                    </tr>\n",
       "                </thead>\n",
       "                <tbody>\n",
       "                    \n",
       "                    <tr>\n",
       "                        <th> Bytes </th>\n",
       "                        <td> 2.24 GiB </td>\n",
       "                        <td> 228.88 MiB </td>\n",
       "                    </tr>\n",
       "                    \n",
       "                    <tr>\n",
       "                        <th> Shape </th>\n",
       "                        <td> (1000, 300000) </td>\n",
       "                        <td> (1000, 30000) </td>\n",
       "                    </tr>\n",
       "                    <tr>\n",
       "                        <th> Count </th>\n",
       "                        <td> 10 Tasks </td>\n",
       "                        <td> 10 Chunks </td>\n",
       "                    </tr>\n",
       "                    <tr>\n",
       "                    <th> Type </th>\n",
       "                    <td> float64 </td>\n",
       "                    <td> numpy.ndarray </td>\n",
       "                    </tr>\n",
       "                </tbody>\n",
       "            </table>\n",
       "        </td>\n",
       "        <td>\n",
       "        <svg width=\"170\" height=\"75\" style=\"stroke:rgb(0,0,0);stroke-width:1\" >\n",
       "\n",
       "  <!-- Horizontal lines -->\n",
       "  <line x1=\"0\" y1=\"0\" x2=\"120\" y2=\"0\" style=\"stroke-width:2\" />\n",
       "  <line x1=\"0\" y1=\"25\" x2=\"120\" y2=\"25\" style=\"stroke-width:2\" />\n",
       "\n",
       "  <!-- Vertical lines -->\n",
       "  <line x1=\"0\" y1=\"0\" x2=\"0\" y2=\"25\" style=\"stroke-width:2\" />\n",
       "  <line x1=\"12\" y1=\"0\" x2=\"12\" y2=\"25\" />\n",
       "  <line x1=\"24\" y1=\"0\" x2=\"24\" y2=\"25\" />\n",
       "  <line x1=\"36\" y1=\"0\" x2=\"36\" y2=\"25\" />\n",
       "  <line x1=\"48\" y1=\"0\" x2=\"48\" y2=\"25\" />\n",
       "  <line x1=\"60\" y1=\"0\" x2=\"60\" y2=\"25\" />\n",
       "  <line x1=\"72\" y1=\"0\" x2=\"72\" y2=\"25\" />\n",
       "  <line x1=\"84\" y1=\"0\" x2=\"84\" y2=\"25\" />\n",
       "  <line x1=\"96\" y1=\"0\" x2=\"96\" y2=\"25\" />\n",
       "  <line x1=\"108\" y1=\"0\" x2=\"108\" y2=\"25\" />\n",
       "  <line x1=\"120\" y1=\"0\" x2=\"120\" y2=\"25\" style=\"stroke-width:2\" />\n",
       "\n",
       "  <!-- Colored Rectangle -->\n",
       "  <polygon points=\"0.0,0.0 120.0,0.0 120.0,25.412616514582485 0.0,25.412616514582485\" style=\"fill:#ECB172A0;stroke-width:0\"/>\n",
       "\n",
       "  <!-- Text -->\n",
       "  <text x=\"60.000000\" y=\"45.412617\" font-size=\"1.0rem\" font-weight=\"100\" text-anchor=\"middle\" >300000</text>\n",
       "  <text x=\"140.000000\" y=\"12.706308\" font-size=\"1.0rem\" font-weight=\"100\" text-anchor=\"middle\" transform=\"rotate(-90,140.000000,12.706308)\">1000</text>\n",
       "</svg>\n",
       "        </td>\n",
       "    </tr>\n",
       "</table>"
      ],
      "text/plain": [
       "dask.array<normal, shape=(1000, 300000), dtype=float64, chunksize=(1000, 30000), chunktype=numpy.ndarray>"
      ]
     },
     "execution_count": 4,
     "metadata": {},
     "output_type": "execute_result"
    }
   ],
   "source": [
    "%%time\n",
    "arr_da = da.random.normal(0, 1, size=(1000, 300_000), chunks = (1000, 30_000))\n",
    "arr_da\n",
    "#и мы видим не массив, а его заготовку - собираемся создать массив вот с такими параметрами\n",
    "#dask - много-много мини-массивов\n",
    "#эта запись никаких вычислений не создает\n",
    "#парадигма такая, что все вычисления ленивые\n",
    "#dask строит план массива в виде графа"
   ]
  },
  {
   "cell_type": "markdown",
   "metadata": {},
   "source": [
    "2. Посчитайте сумму квадратов элементов массива, созданного в задаче 1. Создайте массив `np.array` такого же размера и сравните скорость решения задачи с использование `da.array` и `np.array`"
   ]
  },
  {
   "cell_type": "code",
   "execution_count": 5,
   "metadata": {},
   "outputs": [
    {
     "name": "stdout",
     "output_type": "stream",
     "text": [
      "Wall time: 46 s\n"
     ]
    },
    {
     "data": {
      "text/plain": [
       "300030632.8972194"
      ]
     },
     "execution_count": 5,
     "metadata": {},
     "output_type": "execute_result"
    }
   ],
   "source": [
    "%%time\n",
    "np.power(arr_np, 2).sum()"
   ]
  },
  {
   "cell_type": "code",
   "execution_count": 6,
   "metadata": {},
   "outputs": [
    {
     "name": "stdout",
     "output_type": "stream",
     "text": [
      "Wall time: 232 ms\n"
     ]
    },
    {
     "data": {
      "text/html": [
       "<table>\n",
       "    <tr>\n",
       "        <td>\n",
       "            <table>\n",
       "                <thead>\n",
       "                    <tr>\n",
       "                        <td> </td>\n",
       "                        <th> Array </th>\n",
       "                        <th> Chunk </th>\n",
       "                    </tr>\n",
       "                </thead>\n",
       "                <tbody>\n",
       "                    \n",
       "                    <tr>\n",
       "                        <th> Bytes </th>\n",
       "                        <td> 8 B </td>\n",
       "                        <td> 8.0 B </td>\n",
       "                    </tr>\n",
       "                    \n",
       "                    <tr>\n",
       "                        <th> Shape </th>\n",
       "                        <td> () </td>\n",
       "                        <td> () </td>\n",
       "                    </tr>\n",
       "                    <tr>\n",
       "                        <th> Count </th>\n",
       "                        <td> 41 Tasks </td>\n",
       "                        <td> 1 Chunks </td>\n",
       "                    </tr>\n",
       "                    <tr>\n",
       "                    <th> Type </th>\n",
       "                    <td> float64 </td>\n",
       "                    <td> numpy.ndarray </td>\n",
       "                    </tr>\n",
       "                </tbody>\n",
       "            </table>\n",
       "        </td>\n",
       "        <td>\n",
       "        \n",
       "        </td>\n",
       "    </tr>\n",
       "</table>"
      ],
      "text/plain": [
       "dask.array<sum-aggregate, shape=(), dtype=float64, chunksize=(), chunktype=numpy.ndarray>"
      ]
     },
     "execution_count": 6,
     "metadata": {},
     "output_type": "execute_result"
    }
   ],
   "source": [
    "%%time\n",
    "da.power(arr_da, 2).sum()"
   ]
  },
  {
   "cell_type": "code",
   "execution_count": 7,
   "metadata": {},
   "outputs": [
    {
     "name": "stdout",
     "output_type": "stream",
     "text": [
      "Wall time: 6.27 s\n"
     ]
    },
    {
     "data": {
      "text/plain": [
       "299974368.92152417"
      ]
     },
     "execution_count": 7,
     "metadata": {},
     "output_type": "execute_result"
    }
   ],
   "source": [
    "%%time\n",
    "da.power(arr_da, 2).sum().compute() #благодаря compute() у нас будут происходит вычисления, иначе не будут\n",
    "#compute мы пишем только один раз в самом конце, чтобы визуализировать вычисления"
   ]
  },
  {
   "cell_type": "code",
   "execution_count": null,
   "metadata": {},
   "outputs": [],
   "source": [
    "%%time\n",
    "#если мы вызовем compute не там, где надо, то мы не получим прироста времени:\n",
    "#плохой пример!!!\n",
    "da.power(arr_da.compute(), 2).sum()"
   ]
  },
  {
   "cell_type": "markdown",
   "metadata": {},
   "source": [
    "3. Визуализируйте граф вычислений для задачи 2."
   ]
  },
  {
   "cell_type": "code",
   "execution_count": 14,
   "metadata": {},
   "outputs": [
    {
     "name": "stdout",
     "output_type": "stream",
     "text": [
      "Requirement already satisfied: graphviz in c:\\users\\olga.khamikoeva\\anaconda3\\lib\\site-packages (0.19)\n"
     ]
    }
   ],
   "source": [
    "!pip install graphviz"
   ]
  },
  {
   "cell_type": "code",
   "execution_count": 15,
   "metadata": {},
   "outputs": [],
   "source": [
    "import os\n",
    "os.environ['PATH'] += os.pathsep + r'C:\\Program Files\\Graphviz\\bin'"
   ]
  },
  {
   "cell_type": "code",
   "execution_count": null,
   "metadata": {},
   "outputs": [],
   "source": [
    "da.power(arr_da, 2).sum().visualize()"
   ]
  },
  {
   "cell_type": "markdown",
   "metadata": {},
   "source": [
    "Мораль. Билиотеку используем для ускоренной обработки данных. Массив - это много np-массивчиков. Все, что знаем о np, применимо и здесь. Откладываем compute() до самого последнего момента, потому что иначе не будет эффекта по времени."
   ]
  },
  {
   "cell_type": "markdown",
   "metadata": {},
   "source": [
    "## Лабораторная работа 11"
   ]
  },
  {
   "cell_type": "code",
   "execution_count": 17,
   "metadata": {},
   "outputs": [],
   "source": [
    "import dask.array as da\n",
    "import h5py\n",
    "import numpy as np"
   ]
  },
  {
   "cell_type": "markdown",
   "metadata": {},
   "source": [
    "1. Считайте датасет `recipe` из файла `minutes_n_ingredients_full.hdf5` в виде `dask.array`. Укажите аргумент `chunks=(100_000, 3)` при создании массива. Выведите на экран основную информацию о массиве."
   ]
  },
  {
   "cell_type": "code",
   "execution_count": 18,
   "metadata": {},
   "outputs": [
    {
     "data": {
      "text/html": [
       "<table>\n",
       "    <tr>\n",
       "        <td>\n",
       "            <table>\n",
       "                <thead>\n",
       "                    <tr>\n",
       "                        <td> </td>\n",
       "                        <th> Array </th>\n",
       "                        <th> Chunk </th>\n",
       "                    </tr>\n",
       "                </thead>\n",
       "                <tbody>\n",
       "                    \n",
       "                    <tr>\n",
       "                        <th> Bytes </th>\n",
       "                        <td> 51.08 MiB </td>\n",
       "                        <td> 2.29 MiB </td>\n",
       "                    </tr>\n",
       "                    \n",
       "                    <tr>\n",
       "                        <th> Shape </th>\n",
       "                        <td> (2231637, 3) </td>\n",
       "                        <td> (100000, 3) </td>\n",
       "                    </tr>\n",
       "                    <tr>\n",
       "                        <th> Count </th>\n",
       "                        <td> 24 Tasks </td>\n",
       "                        <td> 23 Chunks </td>\n",
       "                    </tr>\n",
       "                    <tr>\n",
       "                    <th> Type </th>\n",
       "                    <td> int64 </td>\n",
       "                    <td> numpy.ndarray </td>\n",
       "                    </tr>\n",
       "                </tbody>\n",
       "            </table>\n",
       "        </td>\n",
       "        <td>\n",
       "        <svg width=\"75\" height=\"170\" style=\"stroke:rgb(0,0,0);stroke-width:1\" >\n",
       "\n",
       "  <!-- Horizontal lines -->\n",
       "  <line x1=\"0\" y1=\"0\" x2=\"25\" y2=\"0\" style=\"stroke-width:2\" />\n",
       "  <line x1=\"0\" y1=\"5\" x2=\"25\" y2=\"5\" />\n",
       "  <line x1=\"0\" y1=\"10\" x2=\"25\" y2=\"10\" />\n",
       "  <line x1=\"0\" y1=\"16\" x2=\"25\" y2=\"16\" />\n",
       "  <line x1=\"0\" y1=\"21\" x2=\"25\" y2=\"21\" />\n",
       "  <line x1=\"0\" y1=\"32\" x2=\"25\" y2=\"32\" />\n",
       "  <line x1=\"0\" y1=\"37\" x2=\"25\" y2=\"37\" />\n",
       "  <line x1=\"0\" y1=\"43\" x2=\"25\" y2=\"43\" />\n",
       "  <line x1=\"0\" y1=\"48\" x2=\"25\" y2=\"48\" />\n",
       "  <line x1=\"0\" y1=\"53\" x2=\"25\" y2=\"53\" />\n",
       "  <line x1=\"0\" y1=\"64\" x2=\"25\" y2=\"64\" />\n",
       "  <line x1=\"0\" y1=\"69\" x2=\"25\" y2=\"69\" />\n",
       "  <line x1=\"0\" y1=\"75\" x2=\"25\" y2=\"75\" />\n",
       "  <line x1=\"0\" y1=\"80\" x2=\"25\" y2=\"80\" />\n",
       "  <line x1=\"0\" y1=\"86\" x2=\"25\" y2=\"86\" />\n",
       "  <line x1=\"0\" y1=\"96\" x2=\"25\" y2=\"96\" />\n",
       "  <line x1=\"0\" y1=\"102\" x2=\"25\" y2=\"102\" />\n",
       "  <line x1=\"0\" y1=\"107\" x2=\"25\" y2=\"107\" />\n",
       "  <line x1=\"0\" y1=\"112\" x2=\"25\" y2=\"112\" />\n",
       "  <line x1=\"0\" y1=\"120\" x2=\"25\" y2=\"120\" style=\"stroke-width:2\" />\n",
       "\n",
       "  <!-- Vertical lines -->\n",
       "  <line x1=\"0\" y1=\"0\" x2=\"0\" y2=\"120\" style=\"stroke-width:2\" />\n",
       "  <line x1=\"25\" y1=\"0\" x2=\"25\" y2=\"120\" style=\"stroke-width:2\" />\n",
       "\n",
       "  <!-- Colored Rectangle -->\n",
       "  <polygon points=\"0.0,0.0 25.412616514582485,0.0 25.412616514582485,120.0 0.0,120.0\" style=\"fill:#8B4903A0;stroke-width:0\"/>\n",
       "\n",
       "  <!-- Text -->\n",
       "  <text x=\"12.706308\" y=\"140.000000\" font-size=\"1.0rem\" font-weight=\"100\" text-anchor=\"middle\" >3</text>\n",
       "  <text x=\"45.412617\" y=\"60.000000\" font-size=\"1.0rem\" font-weight=\"100\" text-anchor=\"middle\" transform=\"rotate(-90,45.412617,60.000000)\">2231637</text>\n",
       "</svg>\n",
       "        </td>\n",
       "    </tr>\n",
       "</table>"
      ],
      "text/plain": [
       "dask.array<array, shape=(2231637, 3), dtype=int64, chunksize=(100000, 3), chunktype=numpy.ndarray>"
      ]
     },
     "execution_count": 18,
     "metadata": {},
     "output_type": "execute_result"
    }
   ],
   "source": [
    "file_h = h5py.File('./data/minutes_n_ingredients_full.hdf5')\n",
    "recipes = da.from_array(file_h['recipe'], chunks=(100_000, 3))\n",
    "recipes_test = da.from_array(file_h['recipe'])\n",
    "recipes_test2 = da.from_array(file_h['recipe'], chunks=(1_000_000, 3))\n",
    "recipes"
   ]
  },
  {
   "cell_type": "code",
   "execution_count": 19,
   "metadata": {},
   "outputs": [
    {
     "data": {
      "text/plain": [
       "array([[ 683970,      33,       9],\n",
       "       [1089012,      23,       5],\n",
       "       [1428572,       0,       5],\n",
       "       ...,\n",
       "       [1910650,      60,       2],\n",
       "       [ 713836,       0,       9],\n",
       "       [ 660699,      64,       8]], dtype=int64)"
      ]
     },
     "execution_count": 19,
     "metadata": {},
     "output_type": "execute_result"
    }
   ],
   "source": [
    "recipes.compute()"
   ]
  },
  {
   "cell_type": "markdown",
   "metadata": {},
   "source": [
    "2. Вычислите среднее значение по каждому столбцу, кроме первого. "
   ]
  },
  {
   "cell_type": "code",
   "execution_count": 6,
   "metadata": {},
   "outputs": [
    {
     "name": "stdout",
     "output_type": "stream",
     "text": [
      "Среднее значение по второму столбцу = 1004.2080517575215\n",
      "Среднее значение по третьему столбцу = 5.419800800936711\n",
      "Wall time: 219 ms\n"
     ]
    }
   ],
   "source": [
    "%%time\n",
    "print(f'Среднее значение по второму столбцу = {da.mean(recipes[:, 1]).compute()}')\n",
    "print(f'Среднее значение по третьему столбцу = {da.mean(recipes[:, 2]).compute()}')"
   ]
  },
  {
   "cell_type": "markdown",
   "metadata": {},
   "source": [
    "3. Исследуйте, как влияет значение аргумента `chunks` при создании `dask.array` на скорость выполнения операции поиска среднего. "
   ]
  },
  {
   "cell_type": "code",
   "execution_count": 7,
   "metadata": {
    "scrolled": true
   },
   "outputs": [
    {
     "name": "stdout",
     "output_type": "stream",
     "text": [
      "Среднее значение по второму столбцу = 1004.2080517575215\n",
      "Среднее значение по третьему столбцу = 5.419800800936711\n",
      "Wall time: 230 ms\n"
     ]
    }
   ],
   "source": [
    "%%time\n",
    "print(f'Среднее значение по второму столбцу = {da.mean(recipes_test[:, 1]).compute()}')\n",
    "print(f'Среднее значение по третьему столбцу = {da.mean(recipes_test[:, 2]).compute()}')"
   ]
  },
  {
   "cell_type": "code",
   "execution_count": 8,
   "metadata": {},
   "outputs": [
    {
     "name": "stdout",
     "output_type": "stream",
     "text": [
      "Среднее значение по второму столбцу = 1004.2080517575215\n",
      "Среднее значение по третьему столбцу = 5.419800800936711\n",
      "Wall time: 203 ms\n"
     ]
    }
   ],
   "source": [
    "%%time\n",
    "print(f'Среднее значение по второму столбцу = {da.mean(recipes_test2[:, 1]).compute()}')\n",
    "print(f'Среднее значение по третьему столбцу = {da.mean(recipes_test2[:, 2]).compute()}')"
   ]
  },
  {
   "cell_type": "markdown",
   "metadata": {},
   "source": [
    "Чем больше количество элементов в одном chunk, тем быстрее"
   ]
  },
  {
   "cell_type": "markdown",
   "metadata": {},
   "source": [
    "4. Выберите рецепты, время выполнения которых меньше медианного значения"
   ]
  },
  {
   "cell_type": "code",
   "execution_count": 9,
   "metadata": {},
   "outputs": [
    {
     "name": "stdout",
     "output_type": "stream",
     "text": [
      "Медиана = 32.0\n",
      "Рецепты, время выполнения которых меньше медианного значения:\n",
      "[[1089012      23       5]\n",
      " [1428572       0       5]\n",
      " [1400250      24       1]\n",
      " ...\n",
      " [1029131      19       4]\n",
      " [1700703       1       1]\n",
      " [ 713836       0       9]]\n"
     ]
    }
   ],
   "source": [
    "median = da.median(recipes[:, 1], axis=0).compute()\n",
    "print(f'Медиана = {median}')\n",
    "print(f'Рецепты, время выполнения которых меньше медианного значения:\\n{recipes[recipes[:, 1] < median].compute()}')"
   ]
  },
  {
   "cell_type": "markdown",
   "metadata": {},
   "source": [
    "5. Посчитайте количество каждого из возможных значений кол-ва ингредиентов"
   ]
  },
  {
   "cell_type": "code",
   "execution_count": 4,
   "metadata": {},
   "outputs": [
    {
     "data": {
      "text/plain": [
       "{1: 222071,\n",
       " 2: 224158,\n",
       " 3: 229388,\n",
       " 4: 234948,\n",
       " 5: 240720,\n",
       " 6: 244360,\n",
       " 7: 247181,\n",
       " 8: 246747,\n",
       " 9: 246816,\n",
       " 10: 22430,\n",
       " 11: 19094,\n",
       " 12: 15165,\n",
       " 13: 11640,\n",
       " 14: 8284,\n",
       " 15: 6014,\n",
       " 16: 4145,\n",
       " 17: 2793,\n",
       " 18: 1913,\n",
       " 19: 1279,\n",
       " 20: 852,\n",
       " 21: 529,\n",
       " 22: 346,\n",
       " 23: 244,\n",
       " 24: 178,\n",
       " 25: 107,\n",
       " 26: 68,\n",
       " 27: 55,\n",
       " 28: 33,\n",
       " 29: 22,\n",
       " 30: 20,\n",
       " 31: 13,\n",
       " 32: 5,\n",
       " 33: 4,\n",
       " 34: 3,\n",
       " 35: 4,\n",
       " 36: 1,\n",
       " 37: 2,\n",
       " 38: 1,\n",
       " 39: 1,\n",
       " 40: 2,\n",
       " 43: 1}"
      ]
     },
     "execution_count": 4,
     "metadata": {},
     "output_type": "execute_result"
    }
   ],
   "source": [
    "n_ingred, count_n = da.unique(recipes[:, 2], return_counts = True)\n",
    "dict(zip(n_ingred.compute(), count_n.compute()))"
   ]
  },
  {
   "cell_type": "markdown",
   "metadata": {},
   "source": [
    "6. Найдите максимальную продолжительность рецепта. Ограничьте максимальную продолжительность рецептов сверху значением, равному 75% квантилю."
   ]
  },
  {
   "cell_type": "code",
   "execution_count": 5,
   "metadata": {},
   "outputs": [
    {
     "data": {
      "text/plain": [
       "2147483647"
      ]
     },
     "execution_count": 5,
     "metadata": {},
     "output_type": "execute_result"
    }
   ],
   "source": [
    "max_time = da.max(recipes[:, 1]).compute()\n",
    "max_time"
   ]
  },
  {
   "cell_type": "code",
   "execution_count": 6,
   "metadata": {},
   "outputs": [
    {
     "data": {
      "text/plain": [
       "array([[ 683970,      33,       9],\n",
       "       [1089012,      23,       5],\n",
       "       [1428572,       0,       5],\n",
       "       ...,\n",
       "       [1910650,      49,       2],\n",
       "       [ 713836,       0,       9],\n",
       "       [ 660699,      49,       8]], dtype=int64)"
      ]
     },
     "execution_count": 6,
     "metadata": {},
     "output_type": "execute_result"
    }
   ],
   "source": [
    "quant = recipes.to_dask_dataframe()[1].quantile(0.75).compute()\n",
    "recipes[recipes[:, 1] > quant, 1] = quant\n",
    "#quant\n",
    "recipes.compute()"
   ]
  },
  {
   "cell_type": "code",
   "execution_count": 7,
   "metadata": {},
   "outputs": [
    {
     "data": {
      "text/plain": [
       "49"
      ]
     },
     "execution_count": 7,
     "metadata": {},
     "output_type": "execute_result"
    }
   ],
   "source": [
    "max_time = da.max(recipes[:, 1]).compute()\n",
    "max_time"
   ]
  },
  {
   "cell_type": "markdown",
   "metadata": {},
   "source": [
    "7. Создайте массив `dask.array` из 2 чисел, содержащих ваши предпочтения относительно времени выполнения рецепта и кол-ва ингредиентов. Найдите наиболее похожий (в смысле $L_1$) рецепт из имеющихся в датасете."
   ]
  },
  {
   "cell_type": "code",
   "execution_count": 12,
   "metadata": {},
   "outputs": [
    {
     "data": {
      "text/plain": [
       "array([24399,    25,    10], dtype=int64)"
      ]
     },
     "execution_count": 12,
     "metadata": {},
     "output_type": "execute_result"
    }
   ],
   "source": [
    "my_arr = da.from_array([25, 10])\n",
    "mask = da.fabs(my_arr - recipes[:, 1:]).sum(axis=1).argmin()\n",
    "most_similar = recipes[mask].compute()\n",
    "most_similar"
   ]
  },
  {
   "cell_type": "markdown",
   "metadata": {},
   "source": [
    "8. Работая с исходным файлом в формате `hdf5`, реализуйте алгоритм подсчета среднего значения в блочной форме и вычислите с его помощью среднее значение второго столбца в массиве.\n",
    "\n",
    "Блочный алгоритм вычислений состоит из двух частей:\n",
    "1. загрузка фрагмента за фрагментом данных по `blocksize` элементов и проведение вычислений на этим фрагментом;\n",
    "2. агрегация результатов вычислений на различных фрагментах для получения результата на уровне всего набора данных.\n",
    "\n",
    "Важно: при работе с `h5py` в память загружаются не все элементы, а только те, которые запрашиваются в данный момент"
   ]
  },
  {
   "cell_type": "code",
   "execution_count": 27,
   "metadata": {},
   "outputs": [
    {
     "data": {
      "text/html": [
       "<table>\n",
       "    <tr>\n",
       "        <td>\n",
       "            <table>\n",
       "                <thead>\n",
       "                    <tr>\n",
       "                        <td> </td>\n",
       "                        <th> Array </th>\n",
       "                        <th> Chunk </th>\n",
       "                    </tr>\n",
       "                </thead>\n",
       "                <tbody>\n",
       "                    \n",
       "                    <tr>\n",
       "                        <th> Bytes </th>\n",
       "                        <td> 51.08 MiB </td>\n",
       "                        <td> 2.29 MiB </td>\n",
       "                    </tr>\n",
       "                    \n",
       "                    <tr>\n",
       "                        <th> Shape </th>\n",
       "                        <td> (2231637, 3) </td>\n",
       "                        <td> (100000, 3) </td>\n",
       "                    </tr>\n",
       "                    <tr>\n",
       "                        <th> Count </th>\n",
       "                        <td> 24 Tasks </td>\n",
       "                        <td> 23 Chunks </td>\n",
       "                    </tr>\n",
       "                    <tr>\n",
       "                    <th> Type </th>\n",
       "                    <td> int64 </td>\n",
       "                    <td> numpy.ndarray </td>\n",
       "                    </tr>\n",
       "                </tbody>\n",
       "            </table>\n",
       "        </td>\n",
       "        <td>\n",
       "        <svg width=\"75\" height=\"170\" style=\"stroke:rgb(0,0,0);stroke-width:1\" >\n",
       "\n",
       "  <!-- Horizontal lines -->\n",
       "  <line x1=\"0\" y1=\"0\" x2=\"25\" y2=\"0\" style=\"stroke-width:2\" />\n",
       "  <line x1=\"0\" y1=\"5\" x2=\"25\" y2=\"5\" />\n",
       "  <line x1=\"0\" y1=\"10\" x2=\"25\" y2=\"10\" />\n",
       "  <line x1=\"0\" y1=\"16\" x2=\"25\" y2=\"16\" />\n",
       "  <line x1=\"0\" y1=\"21\" x2=\"25\" y2=\"21\" />\n",
       "  <line x1=\"0\" y1=\"32\" x2=\"25\" y2=\"32\" />\n",
       "  <line x1=\"0\" y1=\"37\" x2=\"25\" y2=\"37\" />\n",
       "  <line x1=\"0\" y1=\"43\" x2=\"25\" y2=\"43\" />\n",
       "  <line x1=\"0\" y1=\"48\" x2=\"25\" y2=\"48\" />\n",
       "  <line x1=\"0\" y1=\"53\" x2=\"25\" y2=\"53\" />\n",
       "  <line x1=\"0\" y1=\"64\" x2=\"25\" y2=\"64\" />\n",
       "  <line x1=\"0\" y1=\"69\" x2=\"25\" y2=\"69\" />\n",
       "  <line x1=\"0\" y1=\"75\" x2=\"25\" y2=\"75\" />\n",
       "  <line x1=\"0\" y1=\"80\" x2=\"25\" y2=\"80\" />\n",
       "  <line x1=\"0\" y1=\"86\" x2=\"25\" y2=\"86\" />\n",
       "  <line x1=\"0\" y1=\"96\" x2=\"25\" y2=\"96\" />\n",
       "  <line x1=\"0\" y1=\"102\" x2=\"25\" y2=\"102\" />\n",
       "  <line x1=\"0\" y1=\"107\" x2=\"25\" y2=\"107\" />\n",
       "  <line x1=\"0\" y1=\"112\" x2=\"25\" y2=\"112\" />\n",
       "  <line x1=\"0\" y1=\"120\" x2=\"25\" y2=\"120\" style=\"stroke-width:2\" />\n",
       "\n",
       "  <!-- Vertical lines -->\n",
       "  <line x1=\"0\" y1=\"0\" x2=\"0\" y2=\"120\" style=\"stroke-width:2\" />\n",
       "  <line x1=\"25\" y1=\"0\" x2=\"25\" y2=\"120\" style=\"stroke-width:2\" />\n",
       "\n",
       "  <!-- Colored Rectangle -->\n",
       "  <polygon points=\"0.0,0.0 25.412616514582485,0.0 25.412616514582485,120.0 0.0,120.0\" style=\"fill:#8B4903A0;stroke-width:0\"/>\n",
       "\n",
       "  <!-- Text -->\n",
       "  <text x=\"12.706308\" y=\"140.000000\" font-size=\"1.0rem\" font-weight=\"100\" text-anchor=\"middle\" >3</text>\n",
       "  <text x=\"45.412617\" y=\"60.000000\" font-size=\"1.0rem\" font-weight=\"100\" text-anchor=\"middle\" transform=\"rotate(-90,45.412617,60.000000)\">2231637</text>\n",
       "</svg>\n",
       "        </td>\n",
       "    </tr>\n",
       "</table>"
      ],
      "text/plain": [
       "dask.array<array, shape=(2231637, 3), dtype=int64, chunksize=(100000, 3), chunktype=numpy.ndarray>"
      ]
     },
     "execution_count": 27,
     "metadata": {},
     "output_type": "execute_result"
    }
   ],
   "source": [
    "file_h = h5py.File('./data/minutes_n_ingredients_full.hdf5')\n",
    "recipes_8 = da.from_array(file_h['recipe'], chunks=(100_000, 3))\n",
    "recipes_8"
   ]
  },
  {
   "cell_type": "code",
   "execution_count": 28,
   "metadata": {},
   "outputs": [
    {
     "name": "stderr",
     "output_type": "stream",
     "text": [
      "C:\\Users\\olga.khamikoeva\\Anaconda3\\lib\\site-packages\\dask\\array\\core.py:1553: FutureWarning: The `numpy.array_split` function is not implemented by Dask array. You may want to use the da.map_blocks function or something similar to silence this warning. Your code may stop working in a future release.\n",
      "  warnings.warn(\n"
     ]
    },
    {
     "data": {
      "text/plain": [
       "[42.22067268914341,\n",
       " 41.57520164542668,\n",
       " 39.82334650750121,\n",
       " 39.9490885626714,\n",
       " 8702.696184868528,\n",
       " 41.342724633005325,\n",
       " 42.53939159296497,\n",
       " 41.61677535398997,\n",
       " 46.09745562774491]"
      ]
     },
     "execution_count": 28,
     "metadata": {},
     "output_type": "execute_result"
    }
   ],
   "source": [
    "def mean_func(arr, n):\n",
    "    arr_with_mean = []\n",
    "    parts = np.array_split(arr, n)\n",
    "    for item in parts:\n",
    "        elem = da.from_array(np.array(item))\n",
    "        mean = elem[:, 1].mean(axis = 0)\n",
    "        arr_with_mean.append(mean.compute())\n",
    "    return arr_with_mean\n",
    "mean_func(recipes_8, 9)"
   ]
  },
  {
   "cell_type": "markdown",
   "metadata": {},
   "source": [
    "Исходный файл является не совсем корректным, так как есть в нем слишком большое максимальное время. Это сильно портит статистику и подсчет среднего значения. Рассмотрим максимальное значение времени в этом датасете:"
   ]
  },
  {
   "cell_type": "code",
   "execution_count": 29,
   "metadata": {},
   "outputs": [
    {
     "data": {
      "text/plain": [
       "2147483647"
      ]
     },
     "execution_count": 29,
     "metadata": {},
     "output_type": "execute_result"
    }
   ],
   "source": [
    "da.max(recipes_8[:, 1]).compute()"
   ]
  },
  {
   "cell_type": "markdown",
   "metadata": {},
   "source": [
    "Это слишком много для времени приготовления блюда (35791394.11667 часа). Поэтому заменю значение на 40 минут и снова выведу максимальное:"
   ]
  },
  {
   "cell_type": "code",
   "execution_count": 30,
   "metadata": {},
   "outputs": [
    {
     "data": {
      "text/plain": [
       "1051200"
      ]
     },
     "execution_count": 30,
     "metadata": {},
     "output_type": "execute_result"
    }
   ],
   "source": [
    "recipes_8[recipes_8[:, 1] == 2147483647, 1] = 40\n",
    "da.max(recipes_8[:, 1]).compute()"
   ]
  },
  {
   "cell_type": "markdown",
   "metadata": {},
   "source": [
    "Это тоже слишком много. Поэтому я заменю все значения, которые больше 4320 на 40:"
   ]
  },
  {
   "cell_type": "code",
   "execution_count": 31,
   "metadata": {},
   "outputs": [
    {
     "data": {
      "text/plain": [
       "4320"
      ]
     },
     "execution_count": 31,
     "metadata": {},
     "output_type": "execute_result"
    }
   ],
   "source": [
    "recipes_8[recipes_8[:, 1] > 4320, 1] = 40\n",
    "da.max(recipes_8[:, 1]).compute()"
   ]
  },
  {
   "cell_type": "markdown",
   "metadata": {},
   "source": [
    "Теперь найдем среднее значение по новому датасету:"
   ]
  },
  {
   "cell_type": "code",
   "execution_count": 32,
   "metadata": {},
   "outputs": [
    {
     "name": "stderr",
     "output_type": "stream",
     "text": [
      "C:\\Users\\olga.khamikoeva\\Anaconda3\\lib\\site-packages\\dask\\array\\core.py:1553: FutureWarning: The `numpy.array_split` function is not implemented by Dask array. You may want to use the da.map_blocks function or something similar to silence this warning. Your code may stop working in a future release.\n",
      "  warnings.warn(\n"
     ]
    },
    {
     "data": {
      "text/plain": [
       "[36.542590850024645,\n",
       " 36.72814446386163,\n",
       " 36.602813998297265,\n",
       " 36.4749742348882,\n",
       " 36.28346103867007,\n",
       " 37.106062642828334,\n",
       " 36.249899179997314,\n",
       " 37.810996101626564,\n",
       " 36.651073172917506,\n",
       " 36.02244925393198,\n",
       " 36.31930815073711,\n",
       " 36.18210332930053,\n",
       " 37.483039835103284,\n",
       " 36.38598377918179,\n",
       " 36.71891383250437,\n",
       " 36.9137428865887,\n",
       " 36.349106062642825,\n",
       " 36.420576242326476,\n",
       " 36.62423264775732,\n",
       " 36.73123627727741,\n",
       " 36.995832773222205,\n",
       " 36.57104449522785,\n",
       " 36.91387731325895,\n",
       " 36.08818389568491,\n",
       " 35.969126674732266,\n",
       " 36.01371152036564,\n",
       " 36.043554241161445,\n",
       " 36.749563113321685,\n",
       " 37.055921494824574,\n",
       " 36.457543576645605,\n",
       " 36.62987856790787,\n",
       " 36.896849935027106,\n",
       " 37.150333826231126,\n",
       " 36.662947528789715,\n",
       " 36.7906976744186,\n",
       " 36.37751489895595,\n",
       " 36.49975355110454,\n",
       " 36.6474278544542,\n",
       " 36.077433231761965,\n",
       " 36.9547409930095,\n",
       " 36.157062197526436,\n",
       " 36.362564975802115,\n",
       " 36.66060225846926,\n",
       " 36.58424448825954,\n",
       " 36.7124932783653,\n",
       " 35.97006632012906,\n",
       " 36.52052339128876,\n",
       " 36.46840831690267,\n",
       " 36.76671446495788,\n",
       " 36.08782936010038,\n",
       " 36.76720738483599,\n",
       " 36.77984405807492,\n",
       " 36.2189908585768,\n",
       " 36.842534504391466,\n",
       " 36.44080480372827,\n",
       " 35.825327119555475,\n",
       " 36.68860906972576,\n",
       " 36.708549919340385,\n",
       " 36.11234092131206,\n",
       " 36.412394694389675,\n",
       " 36.07810539523212,\n",
       " 36.1241261874888,\n",
       " 36.60512636673239,\n",
       " 36.11933142140168,\n",
       " 35.78522136583617,\n",
       " 37.33213837605306,\n",
       " 37.01563900340563,\n",
       " 36.2435472306865,\n",
       " 36.68632371392723,\n",
       " 36.91226026169564,\n",
       " 37.352303280157734,\n",
       " 36.566006452769315,\n",
       " 36.19689908585768,\n",
       " 36.18260440939236,\n",
       " 37.15244667503137,\n",
       " 36.683186951066496,\n",
       " 36.95424807313139,\n",
       " 35.99749058971142,\n",
       " 36.7280426599749,\n",
       " 36.69694389675569,\n",
       " 36.492516580032266,\n",
       " 36.90293959490948,\n",
       " 35.70931170460656,\n",
       " 36.61489514249865,\n",
       " 36.68175300233017,\n",
       " 36.93027424269582,\n",
       " 36.872737049650475,\n",
       " 37.059060763577705,\n",
       " 36.83370675748342,\n",
       " 36.50165800322638,\n",
       " 36.03799964151282,\n",
       " 36.07425165800323,\n",
       " 36.14599390571787,\n",
       " 37.464554579673774,\n",
       " 36.59737408137659,\n",
       " 36.642229790285,\n",
       " 36.04853020254526,\n",
       " 36.42839218497939,\n",
       " 36.001523570532356,\n",
       " 36.46365836171357]"
      ]
     },
     "execution_count": 32,
     "metadata": {},
     "output_type": "execute_result"
    }
   ],
   "source": [
    "def mean_func(arr, n):\n",
    "    arr_with_mean = []\n",
    "    test = np.array_split(arr, n)\n",
    "    for item in test:\n",
    "        elem = da.from_array(np.array(item))\n",
    "        mean = elem[:, 1].mean(axis = 0)\n",
    "        arr_with_mean.append(mean.compute())\n",
    "    return arr_with_mean\n",
    "mean_func(recipes_8, 100)"
   ]
  }
 ],
 "metadata": {
  "kernelspec": {
   "display_name": "Python 3",
   "language": "python",
   "name": "python3"
  },
  "language_info": {
   "codemirror_mode": {
    "name": "ipython",
    "version": 3
   },
   "file_extension": ".py",
   "mimetype": "text/x-python",
   "name": "python",
   "nbconvert_exporter": "python",
   "pygments_lexer": "ipython3",
   "version": "3.8.8"
  }
 },
 "nbformat": 4,
 "nbformat_minor": 4
}
